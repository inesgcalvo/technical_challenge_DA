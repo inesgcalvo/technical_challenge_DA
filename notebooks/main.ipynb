{
 "cells": [
  {
   "cell_type": "markdown",
   "id": "efdcf034",
   "metadata": {},
   "source": [
    "# Car Fuel Consumption\n",
    "\n",
    "https://www.kaggle.com/datasets/anderas/car-consume"
   ]
  },
  {
   "cell_type": "code",
   "execution_count": 77,
   "id": "09f388a6",
   "metadata": {},
   "outputs": [],
   "source": [
    "# Import Libraries\n",
    "\n",
    "import sys\n",
    "import numpy as np\n",
    "import pandas as pd\n",
    "\n",
    "# Statistical Analysis\n",
    "from scipy.stats import shapiro\n",
    "from scipy.stats import norm\n",
    "from sklearn.preprocessing import StandardScaler\n",
    "from scipy.stats import ttest_ind\n",
    "\n",
    "# Machine Learning (ML) to Fill NaN values for temperature\n",
    "from sklearn.linear_model import LinearRegression\n",
    "\n",
    "# ML to split data\n",
    "from sklearn.model_selection import train_test_split\n",
    "\n",
    "# ML label encoder\n",
    "from sklearn.preprocessing import LabelEncoder\n",
    "\n",
    "# ML to evaluate models\n",
    "from sklearn.metrics import accuracy_score\n",
    "\n",
    "# ML Classification models\n",
    "from sklearn.tree import DecisionTreeClassifier\n",
    "from sklearn.ensemble import RandomForestClassifier, AdaBoostClassifier, GradientBoostingClassifier, BaggingClassifier, ExtraTreesClassifier, VotingClassifier, StackingClassifier\n",
    "from sklearn.svm import SVC, LinearSVC, NuSVC\n",
    "from sklearn.neighbors import KNeighborsClassifier\n",
    "from sklearn.linear_model import LogisticRegression, SGDClassifier\n",
    "from sklearn.naive_bayes import GaussianNB\n",
    "from sklearn.neural_network import MLPClassifier\n",
    "from sklearn.gaussian_process import GaussianProcessClassifier\n",
    "from sklearn.discriminant_analysis import LinearDiscriminantAnalysis, QuadraticDiscriminantAnalysis\n",
    "\n",
    "# ML to search the better parametters\n",
    "from sklearn.model_selection import GridSearchCV\n",
    "\n",
    "# ML to store the model\n",
    "import joblib\n",
    "\n",
    "# Ignore Warnings\n",
    "import warnings\n",
    "warnings.filterwarnings('ignore')"
   ]
  },
  {
   "cell_type": "code",
   "execution_count": 2,
   "id": "eafbebc8",
   "metadata": {},
   "outputs": [],
   "source": [
    "# Import Functions\n",
    "\n",
    "sys.path.append('../src')\n",
    "from support import *"
   ]
  },
  {
   "cell_type": "code",
   "execution_count": 3,
   "id": "07dcbb3a",
   "metadata": {},
   "outputs": [],
   "source": [
    "# Import Data\n",
    "\n",
    "measurements_csv = pd.read_csv('../data/measurements.csv')\n",
    "measurements_xlsx = pd.read_excel('../data/measurements2.xlsx')"
   ]
  },
  {
   "cell_type": "markdown",
   "id": "846a3728",
   "metadata": {},
   "source": [
    "### Compare the two sources of data\n",
    "#### CSV Data"
   ]
  },
  {
   "cell_type": "code",
   "execution_count": 4,
   "id": "d64a9139",
   "metadata": {},
   "outputs": [
    {
     "name": "stdout",
     "output_type": "stream",
     "text": [
      "<class 'pandas.core.frame.DataFrame'>\n",
      "RangeIndex: 388 entries, 0 to 387\n",
      "Data columns (total 12 columns):\n",
      " #   Column         Non-Null Count  Dtype \n",
      "---  ------         --------------  ----- \n",
      " 0   distance       388 non-null    object\n",
      " 1   consume        388 non-null    object\n",
      " 2   speed          388 non-null    int64 \n",
      " 3   temp_inside    376 non-null    object\n",
      " 4   temp_outside   388 non-null    int64 \n",
      " 5   specials       93 non-null     object\n",
      " 6   gas_type       388 non-null    object\n",
      " 7   AC             388 non-null    int64 \n",
      " 8   rain           388 non-null    int64 \n",
      " 9   sun            388 non-null    int64 \n",
      " 10  refill liters  13 non-null     object\n",
      " 11  refill gas     13 non-null     object\n",
      "dtypes: int64(5), object(7)\n",
      "memory usage: 146.0 KB\n"
     ]
    }
   ],
   "source": [
    "measurements_csv.info(memory_usage='deep')"
   ]
  },
  {
   "cell_type": "code",
   "execution_count": 5,
   "id": "4749c58f",
   "metadata": {},
   "outputs": [
    {
     "data": {
      "text/html": [
       "<div>\n",
       "<style scoped>\n",
       "    .dataframe tbody tr th:only-of-type {\n",
       "        vertical-align: middle;\n",
       "    }\n",
       "\n",
       "    .dataframe tbody tr th {\n",
       "        vertical-align: top;\n",
       "    }\n",
       "\n",
       "    .dataframe thead th {\n",
       "        text-align: right;\n",
       "    }\n",
       "</style>\n",
       "<table border=\"1\" class=\"dataframe\">\n",
       "  <thead>\n",
       "    <tr style=\"text-align: right;\">\n",
       "      <th></th>\n",
       "      <th>distance</th>\n",
       "      <th>consume</th>\n",
       "      <th>speed</th>\n",
       "      <th>temp_inside</th>\n",
       "      <th>temp_outside</th>\n",
       "      <th>specials</th>\n",
       "      <th>gas_type</th>\n",
       "      <th>AC</th>\n",
       "      <th>rain</th>\n",
       "      <th>sun</th>\n",
       "      <th>refill liters</th>\n",
       "      <th>refill gas</th>\n",
       "    </tr>\n",
       "  </thead>\n",
       "  <tbody>\n",
       "    <tr>\n",
       "      <th>0</th>\n",
       "      <td>28</td>\n",
       "      <td>5</td>\n",
       "      <td>26</td>\n",
       "      <td>21,5</td>\n",
       "      <td>12</td>\n",
       "      <td>NaN</td>\n",
       "      <td>E10</td>\n",
       "      <td>0</td>\n",
       "      <td>0</td>\n",
       "      <td>0</td>\n",
       "      <td>45</td>\n",
       "      <td>E10</td>\n",
       "    </tr>\n",
       "    <tr>\n",
       "      <th>1</th>\n",
       "      <td>12</td>\n",
       "      <td>4,2</td>\n",
       "      <td>30</td>\n",
       "      <td>21,5</td>\n",
       "      <td>13</td>\n",
       "      <td>NaN</td>\n",
       "      <td>E10</td>\n",
       "      <td>0</td>\n",
       "      <td>0</td>\n",
       "      <td>0</td>\n",
       "      <td>NaN</td>\n",
       "      <td>NaN</td>\n",
       "    </tr>\n",
       "  </tbody>\n",
       "</table>\n",
       "</div>"
      ],
      "text/plain": [
       "  distance consume  speed temp_inside  temp_outside specials gas_type  AC  \\\n",
       "0       28       5     26        21,5            12      NaN      E10   0   \n",
       "1       12     4,2     30        21,5            13      NaN      E10   0   \n",
       "\n",
       "   rain  sun refill liters refill gas  \n",
       "0     0    0            45        E10  \n",
       "1     0    0           NaN        NaN  "
      ]
     },
     "execution_count": 5,
     "metadata": {},
     "output_type": "execute_result"
    }
   ],
   "source": [
    "measurements_csv.head(2)"
   ]
  },
  {
   "cell_type": "markdown",
   "id": "04c1a194",
   "metadata": {},
   "source": [
    "#### XLSX Data"
   ]
  },
  {
   "cell_type": "code",
   "execution_count": 6,
   "id": "3d0e79d0",
   "metadata": {},
   "outputs": [
    {
     "data": {
      "text/html": [
       "<div>\n",
       "<style scoped>\n",
       "    .dataframe tbody tr th:only-of-type {\n",
       "        vertical-align: middle;\n",
       "    }\n",
       "\n",
       "    .dataframe tbody tr th {\n",
       "        vertical-align: top;\n",
       "    }\n",
       "\n",
       "    .dataframe thead th {\n",
       "        text-align: right;\n",
       "    }\n",
       "</style>\n",
       "<table border=\"1\" class=\"dataframe\">\n",
       "  <thead>\n",
       "    <tr style=\"text-align: right;\">\n",
       "      <th></th>\n",
       "      <th>distance</th>\n",
       "      <th>consume</th>\n",
       "      <th>speed</th>\n",
       "      <th>temp_inside</th>\n",
       "      <th>temp_outside</th>\n",
       "      <th>specials</th>\n",
       "      <th>gas_type</th>\n",
       "      <th>AC</th>\n",
       "      <th>rain</th>\n",
       "      <th>sun</th>\n",
       "      <th>refill liters</th>\n",
       "      <th>refill gas</th>\n",
       "    </tr>\n",
       "  </thead>\n",
       "  <tbody>\n",
       "    <tr>\n",
       "      <th>0</th>\n",
       "      <td>28.0</td>\n",
       "      <td>5.0</td>\n",
       "      <td>26</td>\n",
       "      <td>21.5</td>\n",
       "      <td>12</td>\n",
       "      <td>NaN</td>\n",
       "      <td>E10</td>\n",
       "      <td>0</td>\n",
       "      <td>0</td>\n",
       "      <td>0</td>\n",
       "      <td>45.0</td>\n",
       "      <td>E10</td>\n",
       "    </tr>\n",
       "    <tr>\n",
       "      <th>1</th>\n",
       "      <td>12.0</td>\n",
       "      <td>4.2</td>\n",
       "      <td>30</td>\n",
       "      <td>21.5</td>\n",
       "      <td>13</td>\n",
       "      <td>NaN</td>\n",
       "      <td>E10</td>\n",
       "      <td>0</td>\n",
       "      <td>0</td>\n",
       "      <td>0</td>\n",
       "      <td>NaN</td>\n",
       "      <td>NaN</td>\n",
       "    </tr>\n",
       "  </tbody>\n",
       "</table>\n",
       "</div>"
      ],
      "text/plain": [
       "   distance  consume  speed  temp_inside  temp_outside specials gas_type  AC  \\\n",
       "0      28.0      5.0     26         21.5            12      NaN      E10   0   \n",
       "1      12.0      4.2     30         21.5            13      NaN      E10   0   \n",
       "\n",
       "   rain  sun  refill liters refill gas  \n",
       "0     0    0           45.0        E10  \n",
       "1     0    0            NaN        NaN  "
      ]
     },
     "execution_count": 6,
     "metadata": {},
     "output_type": "execute_result"
    }
   ],
   "source": [
    "measurements_xlsx.head(2)"
   ]
  },
  {
   "cell_type": "code",
   "execution_count": 7,
   "id": "f1a6372a",
   "metadata": {},
   "outputs": [
    {
     "name": "stdout",
     "output_type": "stream",
     "text": [
      "<class 'pandas.core.frame.DataFrame'>\n",
      "RangeIndex: 388 entries, 0 to 387\n",
      "Data columns (total 12 columns):\n",
      " #   Column         Non-Null Count  Dtype  \n",
      "---  ------         --------------  -----  \n",
      " 0   distance       388 non-null    float64\n",
      " 1   consume        388 non-null    float64\n",
      " 2   speed          388 non-null    int64  \n",
      " 3   temp_inside    376 non-null    float64\n",
      " 4   temp_outside   388 non-null    int64  \n",
      " 5   specials       93 non-null     object \n",
      " 6   gas_type       388 non-null    object \n",
      " 7   AC             388 non-null    int64  \n",
      " 8   rain           388 non-null    int64  \n",
      " 9   sun            388 non-null    int64  \n",
      " 10  refill liters  13 non-null     float64\n",
      " 11  refill gas     13 non-null     object \n",
      "dtypes: float64(4), int64(5), object(3)\n",
      "memory usage: 77.6 KB\n"
     ]
    }
   ],
   "source": [
    "measurements_xlsx.info(memory_usage='deep')"
   ]
  },
  {
   "cell_type": "markdown",
   "id": "98f7260a",
   "metadata": {},
   "source": [
    "I will continue the analysis with the XLSX data, because the datatypes are already stablished"
   ]
  },
  {
   "cell_type": "markdown",
   "id": "b45f206d",
   "metadata": {},
   "source": [
    "### Exploratory Data Analysis (EDA)"
   ]
  },
  {
   "cell_type": "markdown",
   "id": "b88a32d5",
   "metadata": {},
   "source": [
    "- **distance** (km)\n",
    "- **consume** (L/100km)\n",
    "- average **speed** (km/h)\n",
    "- temperature inside: **temp_inside** (°C)\n",
    "- temperature outside: **temp_outside** (°C)\n",
    "- anything special that happened: **specials**\n",
    "- if it was **rain**ing\n",
    "- if the air condition **AC** was on\n",
    "- if it was **sun**ny enough that the car felt warm when i started it\n",
    "- the gas type i was using: **gas_type**\n",
    "\n",
    "I have also two columns saying how much, **refill liters**, and which gas type, **refill gas**, I was buying. Careful with those. The numbers don't add exactly up, because I note only the rides that occur under certain conditions: If the car was not cooling down enough to have another independent measure from the one before, i don't note it."
   ]
  },
  {
   "cell_type": "code",
   "execution_count": 8,
   "id": "e2c0cd98",
   "metadata": {},
   "outputs": [],
   "source": [
    "df = measurements_xlsx.copy()"
   ]
  },
  {
   "cell_type": "markdown",
   "id": "ceb47b87",
   "metadata": {},
   "source": [
    "#### Fill NaN values"
   ]
  },
  {
   "cell_type": "code",
   "execution_count": 9,
   "id": "91c93ebf",
   "metadata": {},
   "outputs": [
    {
     "data": {
      "image/png": "[encoded data removed]",
      "text/plain": [
       "<Figure size 1000x600 with 1 Axes>"
      ]
     },
     "metadata": {
      "needs_background": "dark"
     },
     "output_type": "display_data"
    }
   ],
   "source": [
    "view_nan(df)"
   ]
  },
  {
   "cell_type": "code",
   "execution_count": 10,
   "id": "772e339c",
   "metadata": {},
   "outputs": [
    {
     "data": {
      "image/png": "[encoded data removed]",
      "text/plain": [
       "<Figure size 1000x600 with 1 Axes>"
      ]
     },
     "metadata": {
      "needs_background": "dark"
     },
     "output_type": "display_data"
    }
   ],
   "source": [
    "# Plot the temperatures\n",
    "\n",
    "fig = plt.figure(facecolor = 'none', figsize = (10, 6))\n",
    "\n",
    "ax = fig.add_subplot(111, facecolor = 'none')\n",
    "\n",
    "sns.regplot(x = df['temp_outside'],\n",
    "            y = df['temp_inside'], \n",
    "            data = df, \n",
    "            scatter = True, \n",
    "            scatter_kws={'s': .5, 'alpha': .3}, \n",
    "            line_kws={'color': '#6EF161'},\n",
    "            color = 'white', \n",
    "            ax = ax)\n",
    "\n",
    "ax.spines['bottom'].set_color('grey')\n",
    "ax.spines['top'].set_color('grey')\n",
    "ax.spines['left'].set_color('grey')\n",
    "ax.spines['right'].set_color('grey')\n",
    "ax.tick_params(colors = 'grey')\n",
    "ax.set_xlabel('Outside Temperature (°C)')\n",
    "ax.xaxis.label.set_color('grey')\n",
    "ax.set_ylabel('Inside Temperature (°C)')\n",
    "ax.yaxis.label.set_color('grey')"
   ]
  },
  {
   "cell_type": "code",
   "execution_count": 11,
   "id": "68f08f20",
   "metadata": {},
   "outputs": [],
   "source": [
    "# Filter rows where 'temp_inside' is not NaN for training the model\n",
    "training_data = df.dropna(subset=['temp_inside'])\n",
    "\n",
    "# Split the data into independent (X) and dependent (y) variables\n",
    "X_train = training_data[['temp_outside']]\n",
    "y_train = training_data['temp_inside']\n",
    "\n",
    "# Create a linear regression model\n",
    "model = LinearRegression()\n",
    "\n",
    "# Train the model\n",
    "model.fit(X_train, y_train)\n",
    "\n",
    "# Filter rows where 'temp_inside' is NaN to make predictions\n",
    "prediction_data = df[df['temp_inside'].isna()]\n",
    "\n",
    "# Use the model to predict 'temp_inside' based on 'temp_outside'\n",
    "X_pred = prediction_data[['temp_outside']]\n",
    "predicted_values = model.predict(X_pred)\n",
    "\n",
    "# Fill NaN values with the predictions\n",
    "df.loc[df['temp_inside'].isna(), 'temp_inside'] = predicted_values"
   ]
  },
  {
   "cell_type": "code",
   "execution_count": 12,
   "id": "d8203cf8",
   "metadata": {},
   "outputs": [
    {
     "data": {
      "image/png": "[encoded data removed]",
      "text/plain": [
       "<Figure size 1000x600 with 1 Axes>"
      ]
     },
     "metadata": {
      "needs_background": "dark"
     },
     "output_type": "display_data"
    }
   ],
   "source": [
    "view_nan(df)"
   ]
  },
  {
   "cell_type": "code",
   "execution_count": 13,
   "id": "55f0f47b",
   "metadata": {},
   "outputs": [
    {
     "data": {
      "text/plain": [
       "rain                  32\n",
       "sun                   27\n",
       "AC rain                9\n",
       "ac                     8\n",
       "AC                     6\n",
       "snow                   3\n",
       "sun ac                 3\n",
       "AC snow                1\n",
       "half rain half sun     1\n",
       "AC sun                 1\n",
       "AC Sun                 1\n",
       "ac rain                1\n",
       "Name: specials, dtype: int64"
      ]
     },
     "execution_count": 13,
     "metadata": {},
     "output_type": "execute_result"
    }
   ],
   "source": [
    "df['specials'].value_counts()"
   ]
  },
  {
   "cell_type": "markdown",
   "id": "17992db4",
   "metadata": {},
   "source": [
    "The column `specials` don't bring any new information and can be dropped."
   ]
  },
  {
   "cell_type": "code",
   "execution_count": 14,
   "id": "d61699c5",
   "metadata": {},
   "outputs": [],
   "source": [
    "df.drop('specials', axis=1, inplace=True)"
   ]
  },
  {
   "cell_type": "code",
   "execution_count": 15,
   "id": "b08a257c",
   "metadata": {},
   "outputs": [
    {
     "data": {
      "image/png": "[encoded data removed]",
      "text/plain": [
       "<Figure size 1000x600 with 1 Axes>"
      ]
     },
     "metadata": {
      "needs_background": "dark"
     },
     "output_type": "display_data"
    }
   ],
   "source": [
    "view_nan(df)"
   ]
  },
  {
   "cell_type": "code",
   "execution_count": 16,
   "id": "ed66bf62",
   "metadata": {},
   "outputs": [
    {
     "data": {
      "text/plain": [
       "45.0    2\n",
       "37.7    2\n",
       "39.0    2\n",
       "37.6    1\n",
       "38.0    1\n",
       "38.3    1\n",
       "10.0    1\n",
       "41.0    1\n",
       "37.0    1\n",
       "37.2    1\n",
       "Name: refill liters, dtype: int64"
      ]
     },
     "execution_count": 16,
     "metadata": {},
     "output_type": "execute_result"
    }
   ],
   "source": [
    "df['refill liters'].value_counts()"
   ]
  },
  {
   "cell_type": "markdown",
   "id": "97c13343",
   "metadata": {},
   "source": [
    "Fuel Consumption (L) = (Distance (km)/100) × Consumption (L/100km)"
   ]
  },
  {
   "cell_type": "code",
   "execution_count": 17,
   "id": "6925a4b4",
   "metadata": {},
   "outputs": [],
   "source": [
    "# Calculate fuel consumption in liters\n",
    "df['calculated_refill_liters'] = (df['distance'] / 100) * df['consume']\n",
    "\n",
    "# Replace NaN values in 'refill liters' with calculated values\n",
    "df['refill liters'].fillna(df['calculated_refill_liters'], inplace=True)"
   ]
  },
  {
   "cell_type": "code",
   "execution_count": 18,
   "id": "a80710d2",
   "metadata": {},
   "outputs": [
    {
     "data": {
      "text/html": [
       "<div>\n",
       "<style scoped>\n",
       "    .dataframe tbody tr th:only-of-type {\n",
       "        vertical-align: middle;\n",
       "    }\n",
       "\n",
       "    .dataframe tbody tr th {\n",
       "        vertical-align: top;\n",
       "    }\n",
       "\n",
       "    .dataframe thead th {\n",
       "        text-align: right;\n",
       "    }\n",
       "</style>\n",
       "<table border=\"1\" class=\"dataframe\">\n",
       "  <thead>\n",
       "    <tr style=\"text-align: right;\">\n",
       "      <th></th>\n",
       "      <th>gas_type</th>\n",
       "      <th>refill gas</th>\n",
       "    </tr>\n",
       "  </thead>\n",
       "  <tbody>\n",
       "    <tr>\n",
       "      <th>0</th>\n",
       "      <td>E10</td>\n",
       "      <td>E10</td>\n",
       "    </tr>\n",
       "    <tr>\n",
       "      <th>44</th>\n",
       "      <td>SP98</td>\n",
       "      <td>SP98</td>\n",
       "    </tr>\n",
       "    <tr>\n",
       "      <th>82</th>\n",
       "      <td>SP98</td>\n",
       "      <td>SP98</td>\n",
       "    </tr>\n",
       "    <tr>\n",
       "      <th>106</th>\n",
       "      <td>SP98</td>\n",
       "      <td>SP98</td>\n",
       "    </tr>\n",
       "    <tr>\n",
       "      <th>139</th>\n",
       "      <td>E10</td>\n",
       "      <td>E10</td>\n",
       "    </tr>\n",
       "    <tr>\n",
       "      <th>171</th>\n",
       "      <td>E10</td>\n",
       "      <td>E10</td>\n",
       "    </tr>\n",
       "    <tr>\n",
       "      <th>191</th>\n",
       "      <td>SP98</td>\n",
       "      <td>SP98</td>\n",
       "    </tr>\n",
       "    <tr>\n",
       "      <th>192</th>\n",
       "      <td>SP98</td>\n",
       "      <td>SP98</td>\n",
       "    </tr>\n",
       "    <tr>\n",
       "      <th>234</th>\n",
       "      <td>E10</td>\n",
       "      <td>E10</td>\n",
       "    </tr>\n",
       "    <tr>\n",
       "      <th>274</th>\n",
       "      <td>SP98</td>\n",
       "      <td>SP98</td>\n",
       "    </tr>\n",
       "    <tr>\n",
       "      <th>313</th>\n",
       "      <td>SP98</td>\n",
       "      <td>SP98</td>\n",
       "    </tr>\n",
       "    <tr>\n",
       "      <th>325</th>\n",
       "      <td>E10</td>\n",
       "      <td>E10</td>\n",
       "    </tr>\n",
       "    <tr>\n",
       "      <th>349</th>\n",
       "      <td>SP98</td>\n",
       "      <td>SP98</td>\n",
       "    </tr>\n",
       "  </tbody>\n",
       "</table>\n",
       "</div>"
      ],
      "text/plain": [
       "    gas_type refill gas\n",
       "0        E10        E10\n",
       "44      SP98       SP98\n",
       "82      SP98       SP98\n",
       "106     SP98       SP98\n",
       "139      E10        E10\n",
       "171      E10        E10\n",
       "191     SP98       SP98\n",
       "192     SP98       SP98\n",
       "234      E10        E10\n",
       "274     SP98       SP98\n",
       "313     SP98       SP98\n",
       "325      E10        E10\n",
       "349     SP98       SP98"
      ]
     },
     "execution_count": 18,
     "metadata": {},
     "output_type": "execute_result"
    }
   ],
   "source": [
    "df[['gas_type', 'refill gas']][df['refill gas'].notna()]"
   ]
  },
  {
   "cell_type": "code",
   "execution_count": 19,
   "id": "c7b28f88",
   "metadata": {},
   "outputs": [],
   "source": [
    "df.drop(['calculated_refill_liters', 'refill gas'], axis=1, inplace=True)"
   ]
  },
  {
   "cell_type": "code",
   "execution_count": 20,
   "id": "ab6e0262",
   "metadata": {},
   "outputs": [
    {
     "data": {
      "image/png": "[encoded data removed]",
      "text/plain": [
       "<Figure size 1000x600 with 1 Axes>"
      ]
     },
     "metadata": {
      "needs_background": "dark"
     },
     "output_type": "display_data"
    }
   ],
   "source": [
    "view_nan(df)"
   ]
  },
  {
   "cell_type": "markdown",
   "id": "a2923937",
   "metadata": {},
   "source": [
    "### Data Visualization\n",
    "#### Which gas type has higher fuel consumption?"
   ]
  },
  {
   "cell_type": "code",
   "execution_count": 21,
   "id": "6941f322",
   "metadata": {},
   "outputs": [
    {
     "data": {
      "text/html": [
       "<div>\n",
       "<style scoped>\n",
       "    .dataframe tbody tr th:only-of-type {\n",
       "        vertical-align: middle;\n",
       "    }\n",
       "\n",
       "    .dataframe tbody tr th {\n",
       "        vertical-align: top;\n",
       "    }\n",
       "\n",
       "    .dataframe thead th {\n",
       "        text-align: right;\n",
       "    }\n",
       "</style>\n",
       "<table border=\"1\" class=\"dataframe\">\n",
       "  <thead>\n",
       "    <tr style=\"text-align: right;\">\n",
       "      <th></th>\n",
       "      <th>AC</th>\n",
       "      <th>consume</th>\n",
       "      <th>distance</th>\n",
       "      <th>rain</th>\n",
       "      <th>refill liters</th>\n",
       "      <th>speed</th>\n",
       "      <th>sun</th>\n",
       "      <th>temp_inside</th>\n",
       "      <th>temp_outside</th>\n",
       "    </tr>\n",
       "    <tr>\n",
       "      <th>gas_type</th>\n",
       "      <th></th>\n",
       "      <th></th>\n",
       "      <th></th>\n",
       "      <th></th>\n",
       "      <th></th>\n",
       "      <th></th>\n",
       "      <th></th>\n",
       "      <th></th>\n",
       "      <th></th>\n",
       "    </tr>\n",
       "  </thead>\n",
       "  <tbody>\n",
       "    <tr>\n",
       "      <th>E10</th>\n",
       "      <td>0.043750</td>\n",
       "      <td>4.931250</td>\n",
       "      <td>21.096250</td>\n",
       "      <td>0.100000</td>\n",
       "      <td>2.209746</td>\n",
       "      <td>43.506250</td>\n",
       "      <td>0.075000</td>\n",
       "      <td>21.920650</td>\n",
       "      <td>10.11875</td>\n",
       "    </tr>\n",
       "    <tr>\n",
       "      <th>SP98</th>\n",
       "      <td>0.100877</td>\n",
       "      <td>4.899123</td>\n",
       "      <td>18.639912</td>\n",
       "      <td>0.140351</td>\n",
       "      <td>2.067395</td>\n",
       "      <td>40.820175</td>\n",
       "      <td>0.087719</td>\n",
       "      <td>21.937313</td>\n",
       "      <td>12.22807</td>\n",
       "    </tr>\n",
       "  </tbody>\n",
       "</table>\n",
       "</div>"
      ],
      "text/plain": [
       "                AC   consume   distance      rain  refill liters      speed  \\\n",
       "gas_type                                                                      \n",
       "E10       0.043750  4.931250  21.096250  0.100000       2.209746  43.506250   \n",
       "SP98      0.100877  4.899123  18.639912  0.140351       2.067395  40.820175   \n",
       "\n",
       "               sun  temp_inside  temp_outside  \n",
       "gas_type                                       \n",
       "E10       0.075000    21.920650      10.11875  \n",
       "SP98      0.087719    21.937313      12.22807  "
      ]
     },
     "execution_count": 21,
     "metadata": {},
     "output_type": "execute_result"
    }
   ],
   "source": [
    "pd.pivot_table(data=df, index = df['gas_type'])"
   ]
  },
  {
   "cell_type": "code",
   "execution_count": 78,
   "id": "f97ad048",
   "metadata": {},
   "outputs": [
    {
     "data": {
      "image/png": "[encoded data removed]",
      "text/plain": [
       "<Figure size 1500x500 with 3 Axes>"
      ]
     },
     "metadata": {
      "needs_background": "dark"
     },
     "output_type": "display_data"
    }
   ],
   "source": [
    "# Plot the consume\n",
    "\n",
    "data = df[['consume', 'rain', 'sun', 'AC', 'gas_type']]\n",
    "\n",
    "fig, axes = plt.subplots(1, 3, figsize=(15, 5), facecolor = 'none')\n",
    "\n",
    "sns.set_theme(style=\"dark\")\n",
    "\n",
    "for i, col in enumerate(['rain', 'sun', 'AC']):\n",
    "   \n",
    "    ax = axes[i]\n",
    "    ax.set_facecolor('none')\n",
    "\n",
    "    sns.violinplot(data=data,\n",
    "                   x=col,\n",
    "                   y='consume',\n",
    "                   hue='gas_type',\n",
    "                   split=True,\n",
    "                   inner='quart',\n",
    "                   fill=False,\n",
    "                   palette={'E10': '#6EF161', 'SP98': '.8'},\n",
    "                   ax=ax)\n",
    "    \n",
    "    ax.spines['bottom'].set_color('grey')\n",
    "    ax.spines['top'].set_color('grey')\n",
    "    ax.spines['left'].set_color('grey')\n",
    "    ax.spines['right'].set_color('grey')\n",
    "    ax.tick_params(colors = 'grey')\n",
    "    ax.xaxis.label.set_color('grey')\n",
    "    ax.set_ylabel('Consumption (L/100km)')\n",
    "    ax.yaxis.label.set_color('grey')\n",
    "    ax.set_ylim(0, 14)\n",
    "\n",
    "        \n",
    "\n",
    "# Show the figure\n",
    "plt.show();"
   ]
  },
  {
   "cell_type": "markdown",
   "id": "a1f4b4bc",
   "metadata": {},
   "source": [
    "In all the cases the gas consumption for E10 is bigger than for SP98"
   ]
  },
  {
   "cell_type": "markdown",
   "id": "b0821fce",
   "metadata": {},
   "source": [
    "### Statistics"
   ]
  },
  {
   "cell_type": "code",
   "execution_count": 23,
   "id": "0ccaf972",
   "metadata": {},
   "outputs": [],
   "source": [
    "# Check the normality of the samples\n",
    "\n",
    "sample_SP98 = df['consume'][df['gas_type'] == 'SP98']\n",
    "sample_E10 = df['consume'][df['gas_type'] == 'E10']"
   ]
  },
  {
   "cell_type": "code",
   "execution_count": 24,
   "id": "08200bc3",
   "metadata": {},
   "outputs": [
    {
     "name": "stdout",
     "output_type": "stream",
     "text": [
      "sample_SP98 is not normally distributed.\n",
      "sample_E10 is not normally distributed.\n"
     ]
    }
   ],
   "source": [
    "stat_SP98, p_value_SP98 = shapiro(sample_E10)\n",
    "stat_E10, p_value_E10 = shapiro(sample_E10)\n",
    "\n",
    "# Check the p-values\n",
    "if p_value_SP98 > 0.05:\n",
    "    print(\"sample_SP98 is likely normally distributed.\")\n",
    "else:\n",
    "    print(\"sample_SP98 is not normally distributed.\")\n",
    "\n",
    "if p_value_E10 > 0.05:\n",
    "    print(\"sample_E10 is likely normally distributed.\")\n",
    "else:\n",
    "    print(\"sample_E10 is not normally distributed.\")"
   ]
  },
  {
   "cell_type": "code",
   "execution_count": 25,
   "id": "049f7d9a",
   "metadata": {},
   "outputs": [
    {
     "name": "stdout",
     "output_type": "stream",
     "text": [
      "Z-score: -0.30151706287537294\n",
      "Two-tailed p-value: 0.7630202407608626\n",
      "Fail to reject the null hypothesis: There is not enough evidence to claim that the means are significantly different.\n"
     ]
    }
   ],
   "source": [
    "# Compare the samples with the Z-test\n",
    "\n",
    "sample_SP98_mean = np.mean(sample_SP98)\n",
    "sample_E10_mean = np.mean(sample_E10)\n",
    "\n",
    "# Population standard deviation ('pop_std')\n",
    "pop_std = df['consume'].std()\n",
    "\n",
    "# Sample sizes ('n1' and 'n2')\n",
    "n1 = len(sample_SP98)\n",
    "n2 = len(sample_E10)\n",
    "\n",
    "# Calculate the standard error of the difference between means\n",
    "std_error_diff = np.sqrt((pop_std**2 / n1) + (pop_std**2 / n2))\n",
    "\n",
    "# Calculate the Z-score\n",
    "z_score = (sample_SP98_mean - sample_E10_mean) / std_error_diff\n",
    "\n",
    "# Calculate the p-value\n",
    "p_value = 2 * (1 - norm.cdf(np.abs(z_score)))\n",
    "\n",
    "# Print the Z-score and p-value\n",
    "print(\"Z-score:\", z_score)\n",
    "print(\"Two-tailed p-value:\", p_value)\n",
    "\n",
    "# Compare the p-value with your significance level to make a decision\n",
    "if p_value < 0.05:\n",
    "    print(\"Reject the null hypothesis: The means are significantly different.\")\n",
    "else:\n",
    "    print(\"Fail to reject the null hypothesis: There is not enough evidence to claim that the means are significantly different.\")"
   ]
  },
  {
   "cell_type": "code",
   "execution_count": 26,
   "id": "ee1a9b4d",
   "metadata": {},
   "outputs": [],
   "source": [
    "# Standarize the samples\n",
    "\n",
    "combined_data = np.concatenate((sample_SP98, sample_E10), axis=0)\n",
    "\n",
    "scaler = StandardScaler()\n",
    "\n",
    "scaled_data = scaler.fit_transform(combined_data.reshape(-1, 1))\n",
    "\n",
    "norm_sample_SP98 = scaled_data[:len(sample_SP98)]\n",
    "norm_sample_E10 = scaled_data[len(sample_E10):]"
   ]
  },
  {
   "cell_type": "code",
   "execution_count": 27,
   "id": "a85c2f82",
   "metadata": {},
   "outputs": [
    {
     "name": "stdout",
     "output_type": "stream",
     "text": [
      "T-score: [1.44692812]\n",
      "Two-tailed p-value: [0.14865632]\n",
      "Fail to reject the null hypothesis: There is not enough evidence to claim that the means are significantly different.\n"
     ]
    }
   ],
   "source": [
    "# Compare the normalizer samples with the Student's T-test\n",
    "\n",
    "statistic, p_value = ttest_ind(norm_sample_SP98, \n",
    "                                norm_sample_E10,\n",
    "                                alternative='two-sided',\n",
    "                                equal_var=False)\n",
    "\n",
    "# Print the T-score and p-value\n",
    "print(\"T-score:\", statistic)\n",
    "print(\"Two-tailed p-value:\", p_value)\n",
    "\n",
    "# Compare the p-value with your significance level to make a decision\n",
    "if p_value < 0.05:\n",
    "    print(\"Reject the null hypothesis: The means are significantly different.\")\n",
    "else:\n",
    "    print(\"Fail to reject the null hypothesis: There is not enough evidence to claim that the means are significantly different.\")"
   ]
  },
  {
   "cell_type": "markdown",
   "id": "d4792e9f",
   "metadata": {},
   "source": [
    "## Create a model to clasify the gas type"
   ]
  },
  {
   "cell_type": "code",
   "execution_count": 79,
   "id": "49a74c6c",
   "metadata": {},
   "outputs": [],
   "source": [
    "# Turn gas type into categories\n",
    "\n",
    "label_encoder = LabelEncoder()\n",
    "df['gas_type_encoded'] = label_encoder.fit_transform(df['gas_type'])"
   ]
  },
  {
   "cell_type": "code",
   "execution_count": 80,
   "id": "faa5e561",
   "metadata": {},
   "outputs": [
    {
     "data": {
      "text/plain": [
       "gas_type  gas_type_encoded\n",
       "SP98      1                   228\n",
       "E10       0                   160\n",
       "dtype: int64"
      ]
     },
     "execution_count": 80,
     "metadata": {},
     "output_type": "execute_result"
    }
   ],
   "source": [
    "df[['gas_type', 'gas_type_encoded']].value_counts()"
   ]
  },
  {
   "cell_type": "code",
   "execution_count": 33,
   "id": "157fafd1",
   "metadata": {},
   "outputs": [],
   "source": [
    "# Divide the data\n",
    "\n",
    "X = df[['distance', 'consume', 'speed', 'temp_inside', 'temp_outside', 'AC', 'rain', 'sun', 'refill liters']]\n",
    "y = df['gas_type_encoded']\n",
    "\n",
    "X_train, X_test, y_train, y_test = train_test_split(X, y, test_size=0.2, random_state=42)"
   ]
  },
  {
   "cell_type": "markdown",
   "id": "c95edb48",
   "metadata": {},
   "source": [
    "### Train and Evaluate Classification Models"
   ]
  },
  {
   "cell_type": "code",
   "execution_count": 37,
   "id": "18ee3c7a",
   "metadata": {},
   "outputs": [],
   "source": [
    "models = {\"dtc\": DecisionTreeClassifier(),\n",
    "          \"rfc\": RandomForestClassifier(),\n",
    "          \"svcr\": SVC(kernel=\"rbf\"),\n",
    "          \"svcl\": SVC(kernel=\"linear\"),\n",
    "          \"knc\": KNeighborsClassifier(),\n",
    "          \"logr\": LogisticRegression(),\n",
    "          \"adaboost\": AdaBoostClassifier(),\n",
    "          \"gradient_boosting\": GradientBoostingClassifier(),\n",
    "          \"naive_bayes\": GaussianNB(),\n",
    "          \"mlp\": MLPClassifier(),\n",
    "          \"bagging\": BaggingClassifier(),\n",
    "          \"extra_trees\": ExtraTreesClassifier(),\n",
    "          \"voting\": VotingClassifier(estimators=[('dtc', DecisionTreeClassifier()), ('rfc', RandomForestClassifier()), ('svc', SVC())]),\n",
    "          \"stacking\": StackingClassifier(estimators=[('knc', KNeighborsClassifier()), ('logr', LogisticRegression()), ('svc', SVC())], final_estimator=DecisionTreeClassifier()),\n",
    "          \"sgd\": SGDClassifier(),\n",
    "          \"nu_svc\": NuSVC(),\n",
    "          \"linear_svc\": LinearSVC(),\n",
    "          \"gaussian_process\": GaussianProcessClassifier(),\n",
    "          \"lda\": LinearDiscriminantAnalysis(),\n",
    "          \"qda\": QuadraticDiscriminantAnalysis()}   "
   ]
  },
  {
   "cell_type": "code",
   "execution_count": 61,
   "id": "4d4c97a6",
   "metadata": {},
   "outputs": [],
   "source": [
    "model_scores = {}\n",
    "\n",
    "for model_name, model in models.items():\n",
    "    model.fit(X_train, y_train)\n",
    "    y_pred = model.predict(X_test)\n",
    "    accuracy = accuracy_score(y_test, y_pred)\n",
    "    model_scores[model_name] = accuracy"
   ]
  },
  {
   "cell_type": "code",
   "execution_count": 63,
   "id": "0e9c3c75",
   "metadata": {},
   "outputs": [
    {
     "data": {
      "text/plain": [
       "{'bagging': 0.7051282051282052,\n",
       " 'dtc': 0.6923076923076923,\n",
       " 'extra_trees': 0.6923076923076923,\n",
       " 'gradient_boosting': 0.6666666666666666,\n",
       " 'voting': 0.6538461538461539,\n",
       " 'rfc': 0.6410256410256411,\n",
       " 'adaboost': 0.6410256410256411,\n",
       " 'gaussian_process': 0.6282051282051282,\n",
       " 'naive_bayes': 0.6025641025641025,\n",
       " 'knc': 0.5769230769230769,\n",
       " 'qda': 0.5769230769230769,\n",
       " 'logr': 0.5512820512820513,\n",
       " 'stacking': 0.5512820512820513,\n",
       " 'lda': 0.5512820512820513,\n",
       " 'sgd': 0.5384615384615384,\n",
       " 'svcr': 0.5256410256410257,\n",
       " 'mlp': 0.5256410256410257,\n",
       " 'svcl': 0.5128205128205128,\n",
       " 'nu_svc': 0.5,\n",
       " 'linear_svc': 0.5}"
      ]
     },
     "execution_count": 63,
     "metadata": {},
     "output_type": "execute_result"
    }
   ],
   "source": [
    "sorted_data = dict(sorted(model_scores.items(), key=lambda x: x[1], reverse=True))\n",
    "sorted_data"
   ]
  },
  {
   "cell_type": "markdown",
   "id": "9bed2465",
   "metadata": {},
   "source": [
    "### Trying to improve the accuracy of the models using grid search for parametters\n",
    "\n",
    "    'bagging': 0.7051282051282052,\n",
    "    'dtc': 0.6923076923076923,\n",
    "    'extra_trees': 0.6923076923076923"
   ]
  },
  {
   "cell_type": "code",
   "execution_count": 67,
   "id": "0bd7dcf2",
   "metadata": {},
   "outputs": [
    {
     "name": "stdout",
     "output_type": "stream",
     "text": [
      "Parameters: {'base_estimator': DecisionTreeClassifier(), 'bootstrap': False, 'bootstrap_features': False, 'max_features': 0.5, 'max_samples': 0.5, 'n_estimators': 100}\n",
      "Accuracy Score: 0.6678491411501121\n"
     ]
    }
   ],
   "source": [
    "param_grid = {'base_estimator': [DecisionTreeClassifier()],  \n",
    "              'n_estimators': [10, 50, 100],\n",
    "              'max_samples': [0.5, 0.7, 1.0],\n",
    "              'max_features': [0.5, 0.7, 1.0],\n",
    "              'bootstrap': [True, False],\n",
    "              'bootstrap_features': [True, False]}\n",
    "\n",
    "bagging_classifier = BaggingClassifier()\n",
    "\n",
    "grid_search = GridSearchCV(bagging_classifier, param_grid, cv=3, scoring='accuracy')\n",
    "\n",
    "grid_search.fit(X_train, y_train)\n",
    "\n",
    "best_params = grid_search.best_params_\n",
    "best_score = grid_search.best_score_\n",
    "\n",
    "print(f'Parameters: {best_params}\\nAccuracy Score: {best_score}')"
   ]
  },
  {
   "cell_type": "code",
   "execution_count": 69,
   "id": "abc707e3",
   "metadata": {},
   "outputs": [
    {
     "name": "stdout",
     "output_type": "stream",
     "text": [
      "Parameters: {'bootstrap': False, 'class_weight': 'balanced_subsample', 'criterion': 'gini', 'max_depth': None, 'max_features': 'sqrt', 'min_samples_leaf': 2, 'min_samples_split': 5, 'n_estimators': 50}\n",
      "Accuracy Score: 0.7031989046552153\n"
     ]
    }
   ],
   "source": [
    "extra_trees_param_grid = {'n_estimators': [50, 100, 150],\n",
    "                          'criterion': ['gini', 'entropy'],\n",
    "                          'max_depth': [None, 10, 20],\n",
    "                          'min_samples_split': [2, 5, 10],\n",
    "                          'min_samples_leaf': [1, 2, 4],\n",
    "                          'max_features': ['auto', 'sqrt', 'log2'],\n",
    "                          'bootstrap': [True, False],\n",
    "                          'class_weight': [None, 'balanced', 'balanced_subsample']}\n",
    "\n",
    "extra_trees_classifier = ExtraTreesClassifier()\n",
    "\n",
    "grid_search = GridSearchCV(extra_trees_classifier, extra_trees_param_grid, cv=3, scoring='accuracy')\n",
    "\n",
    "grid_search.fit(X_train, y_train)\n",
    "\n",
    "best_params = grid_search.best_params_\n",
    "best_score = grid_search.best_score_\n",
    "\n",
    "print(f'Parameters: {best_params}\\nAccuracy Score: {best_score}')"
   ]
  },
  {
   "cell_type": "code",
   "execution_count": 70,
   "id": "f27d647a",
   "metadata": {},
   "outputs": [
    {
     "name": "stdout",
     "output_type": "stream",
     "text": [
      "Parameters: {'criterion': 'entropy', 'max_depth': None, 'max_features': None, 'min_samples_leaf': 1, 'min_samples_split': 10, 'splitter': 'random'}\n",
      "Accuracy Score: 0.6839058999253175\n"
     ]
    }
   ],
   "source": [
    "decision_tree_param_grid = {'criterion': ['gini', 'entropy'],\n",
    "                            'splitter': ['best', 'random'],\n",
    "                            'max_depth': [None, 10, 20, 30],\n",
    "                            'min_samples_split': [2, 5, 10],\n",
    "                            'min_samples_leaf': [1, 2, 4],\n",
    "                            'max_features': [None, 'auto', 'sqrt', 'log2']}\n",
    "    \n",
    "\n",
    "dtc_classifier = DecisionTreeClassifier()\n",
    "\n",
    "grid_search = GridSearchCV(dtc_classifier, decision_tree_param_grid, cv=3, scoring='accuracy')\n",
    "\n",
    "grid_search.fit(X_train, y_train)\n",
    "\n",
    "best_params = grid_search.best_params_\n",
    "best_score = grid_search.best_score_\n",
    "\n",
    "print(f'Parameters: {best_params}\\nAccuracy Score: {best_score}')"
   ]
  },
  {
   "cell_type": "markdown",
   "id": "94d4a378",
   "metadata": {},
   "source": [
    "### Train the model with all the dataset"
   ]
  },
  {
   "cell_type": "code",
   "execution_count": 72,
   "id": "a9d85eb9",
   "metadata": {},
   "outputs": [
    {
     "data": {
      "text/html": [
       "<style>#sk-container-id-1 {color: black;background-color: white;}#sk-container-id-1 pre{padding: 0;}#sk-container-id-1 div.sk-toggleable {background-color: white;}#sk-container-id-1 label.sk-toggleable__label {cursor: pointer;display: block;width: 100%;margin-bottom: 0;padding: 0.3em;box-sizing: border-box;text-align: center;}#sk-container-id-1 label.sk-toggleable__label-arrow:before {content: \"▸\";float: left;margin-right: 0.25em;color: #696969;}#sk-container-id-1 label.sk-toggleable__label-arrow:hover:before {color: black;}#sk-container-id-1 div.sk-estimator:hover label.sk-toggleable__label-arrow:before {color: black;}#sk-container-id-1 div.sk-toggleable__content {max-height: 0;max-width: 0;overflow: hidden;text-align: left;background-color: #f0f8ff;}#sk-container-id-1 div.sk-toggleable__content pre {margin: 0.2em;color: black;border-radius: 0.25em;background-color: #f0f8ff;}#sk-container-id-1 input.sk-toggleable__control:checked~div.sk-toggleable__content {max-height: 200px;max-width: 100%;overflow: auto;}#sk-container-id-1 input.sk-toggleable__control:checked~label.sk-toggleable__label-arrow:before {content: \"▾\";}#sk-container-id-1 div.sk-estimator input.sk-toggleable__control:checked~label.sk-toggleable__label {background-color: #d4ebff;}#sk-container-id-1 div.sk-label input.sk-toggleable__control:checked~label.sk-toggleable__label {background-color: #d4ebff;}#sk-container-id-1 input.sk-hidden--visually {border: 0;clip: rect(1px 1px 1px 1px);clip: rect(1px, 1px, 1px, 1px);height: 1px;margin: -1px;overflow: hidden;padding: 0;position: absolute;width: 1px;}#sk-container-id-1 div.sk-estimator {font-family: monospace;background-color: #f0f8ff;border: 1px dotted black;border-radius: 0.25em;box-sizing: border-box;margin-bottom: 0.5em;}#sk-container-id-1 div.sk-estimator:hover {background-color: #d4ebff;}#sk-container-id-1 div.sk-parallel-item::after {content: \"\";width: 100%;border-bottom: 1px solid gray;flex-grow: 1;}#sk-container-id-1 div.sk-label:hover label.sk-toggleable__label {background-color: #d4ebff;}#sk-container-id-1 div.sk-serial::before {content: \"\";position: absolute;border-left: 1px solid gray;box-sizing: border-box;top: 0;bottom: 0;left: 50%;z-index: 0;}#sk-container-id-1 div.sk-serial {display: flex;flex-direction: column;align-items: center;background-color: white;padding-right: 0.2em;padding-left: 0.2em;position: relative;}#sk-container-id-1 div.sk-item {position: relative;z-index: 1;}#sk-container-id-1 div.sk-parallel {display: flex;align-items: stretch;justify-content: center;background-color: white;position: relative;}#sk-container-id-1 div.sk-item::before, #sk-container-id-1 div.sk-parallel-item::before {content: \"\";position: absolute;border-left: 1px solid gray;box-sizing: border-box;top: 0;bottom: 0;left: 50%;z-index: -1;}#sk-container-id-1 div.sk-parallel-item {display: flex;flex-direction: column;z-index: 1;position: relative;background-color: white;}#sk-container-id-1 div.sk-parallel-item:first-child::after {align-self: flex-end;width: 50%;}#sk-container-id-1 div.sk-parallel-item:last-child::after {align-self: flex-start;width: 50%;}#sk-container-id-1 div.sk-parallel-item:only-child::after {width: 0;}#sk-container-id-1 div.sk-dashed-wrapped {border: 1px dashed gray;margin: 0 0.4em 0.5em 0.4em;box-sizing: border-box;padding-bottom: 0.4em;background-color: white;}#sk-container-id-1 div.sk-label label {font-family: monospace;font-weight: bold;display: inline-block;line-height: 1.2em;}#sk-container-id-1 div.sk-label-container {text-align: center;}#sk-container-id-1 div.sk-container {/* jupyter's `normalize.less` sets `[hidden] { display: none; }` but bootstrap.min.css set `[hidden] { display: none !important; }` so we also need the `!important` here to be able to override the default hidden behavior on the sphinx rendered scikit-learn.org. See: https://github.com/scikit-learn/scikit-learn/issues/21755 */display: inline-block !important;position: relative;}#sk-container-id-1 div.sk-text-repr-fallback {display: none;}</style><div id=\"sk-container-id-1\" class=\"sk-top-container\"><div class=\"sk-text-repr-fallback\"><pre>BaggingClassifier()</pre><b>In a Jupyter environment, please rerun this cell to show the HTML representation or trust the notebook. <br />On GitHub, the HTML representation is unable to render, please try loading this page with nbviewer.org.</b></div><div class=\"sk-container\" hidden><div class=\"sk-item\"><div class=\"sk-estimator sk-toggleable\"><input class=\"sk-toggleable__control sk-hidden--visually\" id=\"sk-estimator-id-1\" type=\"checkbox\" checked><label for=\"sk-estimator-id-1\" class=\"sk-toggleable__label sk-toggleable__label-arrow\">BaggingClassifier</label><div class=\"sk-toggleable__content\"><pre>BaggingClassifier()</pre></div></div></div></div></div>"
      ],
      "text/plain": [
       "BaggingClassifier()"
      ]
     },
     "execution_count": 72,
     "metadata": {},
     "output_type": "execute_result"
    }
   ],
   "source": [
    "classifier = BaggingClassifier()\n",
    "classifier.fit(X, y)"
   ]
  },
  {
   "cell_type": "code",
   "execution_count": 81,
   "id": "4787f7af",
   "metadata": {},
   "outputs": [
    {
     "data": {
      "text/plain": [
       "['../model/classifier.pkl']"
      ]
     },
     "execution_count": 81,
     "metadata": {},
     "output_type": "execute_result"
    }
   ],
   "source": [
    "# Save the model and the label encoder\n",
    "\n",
    "joblib.dump(label_encoder, '../model/label_encoder.pkl')\n",
    "joblib.dump(classifier, '../model/classifier.pkl')"
   ]
  },
  {
   "cell_type": "markdown",
   "id": "4f2613c2",
   "metadata": {},
   "source": [
    "### Test the model with random data"
   ]
  },
  {
   "cell_type": "code",
   "execution_count": 87,
   "id": "a4b52fa1",
   "metadata": {},
   "outputs": [],
   "source": [
    "X_new = X.head(25)"
   ]
  },
  {
   "cell_type": "code",
   "execution_count": 89,
   "id": "7f6ff5da",
   "metadata": {},
   "outputs": [
    {
     "data": {
      "text/html": [
       "<div>\n",
       "<style scoped>\n",
       "    .dataframe tbody tr th:only-of-type {\n",
       "        vertical-align: middle;\n",
       "    }\n",
       "\n",
       "    .dataframe tbody tr th {\n",
       "        vertical-align: top;\n",
       "    }\n",
       "\n",
       "    .dataframe thead th {\n",
       "        text-align: right;\n",
       "    }\n",
       "</style>\n",
       "<table border=\"1\" class=\"dataframe\">\n",
       "  <thead>\n",
       "    <tr style=\"text-align: right;\">\n",
       "      <th></th>\n",
       "      <th>distance</th>\n",
       "      <th>consume</th>\n",
       "      <th>speed</th>\n",
       "      <th>temp_inside</th>\n",
       "      <th>temp_outside</th>\n",
       "      <th>AC</th>\n",
       "      <th>rain</th>\n",
       "      <th>sun</th>\n",
       "      <th>refill liters</th>\n",
       "    </tr>\n",
       "  </thead>\n",
       "  <tbody>\n",
       "    <tr>\n",
       "      <th>0</th>\n",
       "      <td>12.4</td>\n",
       "      <td>4.7</td>\n",
       "      <td>40</td>\n",
       "      <td>21.5</td>\n",
       "      <td>6</td>\n",
       "      <td>0</td>\n",
       "      <td>0</td>\n",
       "      <td>0</td>\n",
       "      <td>0.6018</td>\n",
       "    </tr>\n",
       "    <tr>\n",
       "      <th>1</th>\n",
       "      <td>4.9</td>\n",
       "      <td>4.7</td>\n",
       "      <td>38</td>\n",
       "      <td>21.5</td>\n",
       "      <td>14</td>\n",
       "      <td>0</td>\n",
       "      <td>0</td>\n",
       "      <td>0</td>\n",
       "      <td>0.5546</td>\n",
       "    </tr>\n",
       "  </tbody>\n",
       "</table>\n",
       "</div>"
      ],
      "text/plain": [
       "   distance  consume  speed  temp_inside  temp_outside  AC  rain  sun  \\\n",
       "0      12.4      4.7     40         21.5             6   0     0    0   \n",
       "1       4.9      4.7     38         21.5            14   0     0    0   \n",
       "\n",
       "   refill liters  \n",
       "0         0.6018  \n",
       "1         0.5546  "
      ]
     },
     "metadata": {},
     "output_type": "display_data"
    },
    {
     "data": {
      "text/html": [
       "<div>\n",
       "<style scoped>\n",
       "    .dataframe tbody tr th:only-of-type {\n",
       "        vertical-align: middle;\n",
       "    }\n",
       "\n",
       "    .dataframe tbody tr th {\n",
       "        vertical-align: top;\n",
       "    }\n",
       "\n",
       "    .dataframe thead th {\n",
       "        text-align: right;\n",
       "    }\n",
       "</style>\n",
       "<table border=\"1\" class=\"dataframe\">\n",
       "  <thead>\n",
       "    <tr style=\"text-align: right;\">\n",
       "      <th></th>\n",
       "      <th>distance</th>\n",
       "      <th>consume</th>\n",
       "      <th>speed</th>\n",
       "      <th>temp_inside</th>\n",
       "      <th>temp_outside</th>\n",
       "      <th>AC</th>\n",
       "      <th>rain</th>\n",
       "      <th>sun</th>\n",
       "      <th>refill liters</th>\n",
       "    </tr>\n",
       "  </thead>\n",
       "  <tbody>\n",
       "    <tr>\n",
       "      <th>0</th>\n",
       "      <td>25.9</td>\n",
       "      <td>4.5</td>\n",
       "      <td>30</td>\n",
       "      <td>21.5</td>\n",
       "      <td>3</td>\n",
       "      <td>0</td>\n",
       "      <td>0</td>\n",
       "      <td>0</td>\n",
       "      <td>0.6160</td>\n",
       "    </tr>\n",
       "    <tr>\n",
       "      <th>1</th>\n",
       "      <td>12.4</td>\n",
       "      <td>5.5</td>\n",
       "      <td>36</td>\n",
       "      <td>21.5</td>\n",
       "      <td>13</td>\n",
       "      <td>0</td>\n",
       "      <td>0</td>\n",
       "      <td>0</td>\n",
       "      <td>0.6018</td>\n",
       "    </tr>\n",
       "  </tbody>\n",
       "</table>\n",
       "</div>"
      ],
      "text/plain": [
       "   distance  consume  speed  temp_inside  temp_outside  AC  rain  sun  \\\n",
       "0      25.9      4.5     30         21.5             3   0     0    0   \n",
       "1      12.4      5.5     36         21.5            13   0     0    0   \n",
       "\n",
       "   refill liters  \n",
       "0         0.6160  \n",
       "1         0.6018  "
      ]
     },
     "metadata": {},
     "output_type": "display_data"
    }
   ],
   "source": [
    "# Change randomly the values\n",
    "\n",
    "display(X_new.head(2))\n",
    "\n",
    "for column in X_new.columns:\n",
    "    X_new[column] = np.random.permutation(X_new[column])\n",
    "\n",
    "display(X_new.head(2))"
   ]
  },
  {
   "cell_type": "code",
   "execution_count": 93,
   "id": "ed16f00d",
   "metadata": {},
   "outputs": [
    {
     "data": {
      "text/plain": [
       "array([0, 0, 0, 1, 0, 1, 1, 0, 0, 0, 0, 1, 0, 0, 1, 1, 1, 0, 0, 0, 0, 0,\n",
       "       0, 1, 0], dtype=int8)"
      ]
     },
     "execution_count": 93,
     "metadata": {},
     "output_type": "execute_result"
    }
   ],
   "source": [
    "# Make predictions using the trained model\n",
    "\n",
    "predictions = classifier.predict(X_new)\n",
    "predictions"
   ]
  },
  {
   "cell_type": "code",
   "execution_count": 92,
   "id": "d5028cf6",
   "metadata": {},
   "outputs": [
    {
     "data": {
      "text/plain": [
       "array(['E10', 'E10', 'E10', 'SP98', 'E10', 'SP98', 'SP98', 'E10', 'E10',\n",
       "       'E10', 'E10', 'SP98', 'E10', 'E10', 'SP98', 'SP98', 'SP98', 'E10',\n",
       "       'E10', 'E10', 'E10', 'E10', 'E10', 'SP98', 'E10'], dtype=object)"
      ]
     },
     "execution_count": 92,
     "metadata": {},
     "output_type": "execute_result"
    }
   ],
   "source": [
    "decoded_predictions = label_encoder.inverse_transform(predictions)\n",
    "decoded_predictions"
   ]
  },
  {
   "cell_type": "code",
   "execution_count": null,
   "id": "cef071a8",
   "metadata": {},
   "outputs": [],
   "source": []
  }
 ],
 "metadata": {
  "kernelspec": {
   "display_name": "Python 3 (ipykernel)",
   "language": "python",
   "name": "python3"
  },
  "language_info": {
   "codemirror_mode": {
    "name": "ipython",
    "version": 3
   },
   "file_extension": ".py",
   "mimetype": "text/x-python",
   "name": "python",
   "nbconvert_exporter": "python",
   "pygments_lexer": "ipython3",
   "version": "3.10.9"
  }
 },
 "nbformat": 4,
 "nbformat_minor": 5
}
